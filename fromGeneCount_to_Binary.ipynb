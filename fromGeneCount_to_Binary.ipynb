{
 "cells": [
  {
   "cell_type": "code",
   "execution_count": 2,
   "id": "b682ed4e",
   "metadata": {},
   "outputs": [
    {
     "name": "stdout",
     "output_type": "stream",
     "text": [
      "            Minc_KA  Minc_KV  Minc_MA  Minc_MV  Mluc  Total\n",
      "Orthogroup                                                 \n",
      "OG0000000         1        1        1        1     1      1\n",
      "OG0000001         1        1        1        1     1      1\n",
      "OG0000002         1        1        1        1     1      1\n",
      "OG0000003         1        1        1        1     1      1\n",
      "OG0000004         1        1        1        1     1      1\n",
      "...             ...      ...      ...      ...   ...    ...\n",
      "OG0038515         0        0        0        0     1      1\n",
      "OG0038516         0        0        0        0     1      1\n",
      "OG0038517         0        0        0        0     1      1\n",
      "OG0038518         0        0        0        0     1      1\n",
      "OG0038519         0        0        0        0     1      1\n",
      "\n",
      "[38520 rows x 6 columns]\n"
     ]
    }
   ],
   "source": [
    "import pandas as pd\n",
    "\n",
    "# Read the input file\n",
    "file_path = 'Orthogroups.GeneCount.tsv'\n",
    "df = pd.read_csv(file_path, sep='\\t', index_col='Orthogroup')\n",
    "\n",
    "# Set the threshold value (you can adjust this based on your needs)\n",
    "threshold = 1\n",
    "\n",
    "# Convert the gene counts to binary values\n",
    "binary_matrix = df.apply(lambda x: (x >= threshold).astype(int))\n",
    "\n",
    "# Print or save the binary matrix\n",
    "print(binary_matrix)\n",
    "\n",
    "# If you want to save the binary matrix to a new file\n",
    "binary_matrix.to_csv('binary_matrix.csv', sep='\\t')\n"
   ]
  }
 ],
 "metadata": {
  "kernelspec": {
   "display_name": "Python 3 (ipykernel)",
   "language": "python",
   "name": "python3"
  },
  "language_info": {
   "codemirror_mode": {
    "name": "ipython",
    "version": 3
   },
   "file_extension": ".py",
   "mimetype": "text/x-python",
   "name": "python",
   "nbconvert_exporter": "python",
   "pygments_lexer": "ipython3",
   "version": "3.11.5"
  }
 },
 "nbformat": 4,
 "nbformat_minor": 5
}
